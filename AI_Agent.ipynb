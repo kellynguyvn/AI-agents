{
  "nbformat": 4,
  "nbformat_minor": 0,
  "metadata": {
    "colab": {
      "provenance": []
    },
    "kernelspec": {
      "name": "python3",
      "display_name": "Python 3"
    },
    "language_info": {
      "name": "python"
    }
  },
  "cells": [
    {
      "cell_type": "markdown",
      "source": [
        "## Arithimetic Agent Agent\n",
        "An agent in the context of artificial intelligence and software is a piece of code that performs actions in an environment to achieve some goals. A very simple example of an agent can be a chatbot that responds to user inputs."
      ],
      "metadata": {
        "id": "yjCxSV9oPSzu"
      }
    },
    {
      "cell_type": "markdown",
      "source": [
        "In this example, the ArithmeticAgent class defines a simple agent capable of performing basic arithmetic operations: addition, subtraction, multiplication, and division. The respond method takes an operation and a variable number of arguments, performing the requested operation on the arguments."
      ],
      "metadata": {
        "id": "Bbq-VN87T8Rh"
      }
    },
    {
      "cell_type": "markdown",
      "source": [
        "Definining SubtractionAgent Class"
      ],
      "metadata": {
        "id": "B07qT9JyR2Ps"
      }
    },
    {
      "cell_type": "code",
      "execution_count": 1,
      "metadata": {
        "id": "kvk59QGaPL8L"
      },
      "outputs": [],
      "source": [
        "class SubtractionAgent:\n",
        "    \"\"\"A simple agent that performs subtraction on a series of numbers.\"\"\"\n",
        "    def __init__(self):\n",
        "        pass\n",
        "\n",
        "    def respond(self, *args):\n",
        "        \"\"\"Subtracts subsequent numbers from the first number.\"\"\"\n",
        "        if len(args) < 2:\n",
        "            return \"Error: Need at least two numbers to subtract.\"\n",
        "        result = args[0]\n",
        "        for arg in args[1:]:\n",
        "            result -= arg\n",
        "        return result\n"
      ]
    },
    {
      "cell_type": "markdown",
      "source": [
        "Defining the Division Agent Class"
      ],
      "metadata": {
        "id": "HYZptPffR9xd"
      }
    },
    {
      "cell_type": "code",
      "source": [
        "class DivisionAgent:\n",
        "    \"\"\"A simple agent that performs division on a series of numbers.\"\"\"\n",
        "    def __init__(self):\n",
        "        pass\n",
        "\n",
        "    def respond(self, *args):\n",
        "        \"\"\"Divides the first number by each of the subsequent numbers sequentially.\"\"\"\n",
        "        if len(args) < 2:\n",
        "            return \"Error: Need at least two numbers to perform division.\"\n",
        "        result = args[0]\n",
        "        for arg in args[1:]:\n",
        "            if arg == 0:\n",
        "                return \"Error: Division by zero.\"\n",
        "            result /= arg\n",
        "        return result\n"
      ],
      "metadata": {
        "id": "3EFukOAHP0vv"
      },
      "execution_count": 2,
      "outputs": []
    },
    {
      "cell_type": "markdown",
      "source": [
        "Defining the Addition Agent Class"
      ],
      "metadata": {
        "id": "qd5Q2EYJScdU"
      }
    },
    {
      "cell_type": "code",
      "source": [
        "class AdditionAgent:\n",
        "    \"\"\"A simple agent that performs addition on a series of numbers.\"\"\"\n",
        "    def __init__(self):\n",
        "        pass\n",
        "\n",
        "    def respond(self, *args):\n",
        "        \"\"\"Adds together all given numbers.\"\"\"\n",
        "        return sum(args)\n"
      ],
      "metadata": {
        "id": "eenpXd_WSOqr"
      },
      "execution_count": 3,
      "outputs": []
    },
    {
      "cell_type": "markdown",
      "source": [
        "Defining the MultiplicationAgent Class"
      ],
      "metadata": {
        "id": "B4uZ8IPlSl-o"
      }
    },
    {
      "cell_type": "code",
      "source": [
        "class MultiplicationAgent:\n",
        "    \"\"\"A simple agent that performs multiplication on a series of numbers.\"\"\"\n",
        "    def __init__(self):\n",
        "        pass\n",
        "\n",
        "    def respond(self, *args):\n",
        "        \"\"\"Multiplies all given numbers together.\"\"\"\n",
        "        result = 1\n",
        "        for arg in args:\n",
        "            result *= arg\n",
        "        return result\n"
      ],
      "metadata": {
        "id": "97dB-QAXSP_n"
      },
      "execution_count": 4,
      "outputs": []
    },
    {
      "cell_type": "markdown",
      "source": [
        "### Testing Agents"
      ],
      "metadata": {
        "id": "D5_1NrkLSvYB"
      }
    },
    {
      "cell_type": "markdown",
      "source": [
        "Test Subtraction Agent"
      ],
      "metadata": {
        "id": "2C57sjP3SIzP"
      }
    },
    {
      "cell_type": "code",
      "source": [
        "# Initialize the subtraction agent and test it\n",
        "subtraction_agent = SubtractionAgent()\n",
        "print(subtraction_agent.respond(10, 5, 1))  # Expected output: 4\n"
      ],
      "metadata": {
        "colab": {
          "base_uri": "https://localhost:8080/"
        },
        "id": "wbe0VBBXQ5zV",
        "outputId": "df51c317-42c3-4293-9965-00954adc27a9"
      },
      "execution_count": 5,
      "outputs": [
        {
          "output_type": "stream",
          "name": "stdout",
          "text": [
            "4\n"
          ]
        }
      ]
    },
    {
      "cell_type": "markdown",
      "source": [
        "Test Division Agent"
      ],
      "metadata": {
        "id": "Mz0eLbFiSLnL"
      }
    },
    {
      "cell_type": "code",
      "source": [
        "# Initialize the division agent and test it\n",
        "division_agent = DivisionAgent()\n",
        "print(division_agent.respond(100, 5, 2))  # Expected output: 10\n"
      ],
      "metadata": {
        "colab": {
          "base_uri": "https://localhost:8080/"
        },
        "id": "Mrtj3sB8Ru5X",
        "outputId": "becfcfed-ada0-4884-e61d-38d58b4f9a47"
      },
      "execution_count": 6,
      "outputs": [
        {
          "output_type": "stream",
          "name": "stdout",
          "text": [
            "10.0\n"
          ]
        }
      ]
    },
    {
      "cell_type": "markdown",
      "source": [
        "Test Addition Agent"
      ],
      "metadata": {
        "id": "T2roM83fSXVU"
      }
    },
    {
      "cell_type": "code",
      "source": [
        "# Initialize the addition agent and test it\n",
        "addition_agent = AdditionAgent()\n",
        "print(addition_agent.respond(1, 2, 3, 4))  # Expected output: 10"
      ],
      "metadata": {
        "colab": {
          "base_uri": "https://localhost:8080/"
        },
        "id": "c_RwCjD_SSK7",
        "outputId": "80701a12-eee7-4ee5-b7f8-5a5f9960995b"
      },
      "execution_count": 7,
      "outputs": [
        {
          "output_type": "stream",
          "name": "stdout",
          "text": [
            "10\n"
          ]
        }
      ]
    },
    {
      "cell_type": "markdown",
      "source": [
        "Test Multiplication Agent"
      ],
      "metadata": {
        "id": "p13pL7CGSZL3"
      }
    },
    {
      "cell_type": "code",
      "source": [
        "# Initialize the multiplication agent and test it\n",
        "multiplication_agent = MultiplicationAgent()\n",
        "print(multiplication_agent.respond(2, 3, 4))  # Expected output: 24"
      ],
      "metadata": {
        "colab": {
          "base_uri": "https://localhost:8080/"
        },
        "id": "QxdmHFu2SSah",
        "outputId": "38961d88-86a5-43be-ef7d-9e3ad2b28f8e"
      },
      "execution_count": 8,
      "outputs": [
        {
          "output_type": "stream",
          "name": "stdout",
          "text": [
            "24\n"
          ]
        }
      ]
    }
  ]
}